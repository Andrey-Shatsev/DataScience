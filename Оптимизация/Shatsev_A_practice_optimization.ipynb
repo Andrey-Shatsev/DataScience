{
 "cells": [
  {
   "attachments": {},
   "cell_type": "markdown",
   "metadata": {},
   "source": [
    "<h1>Практика оптимизации. Прогнозирование биологического ответа.</h1>"
   ]
  },
  {
   "attachments": {},
   "cell_type": "markdown",
   "metadata": {},
   "source": [
    "<h2>Цель задания:</h2>"
   ]
  },
  {
   "attachments": {},
   "cell_type": "markdown",
   "metadata": {},
   "source": [
    "<p>Необходимо предсказать биологический ответ молекул (столбец 'Activity') по их химическому составу (столбцы D1-D1776).</p>\n",
    "<p>Данные представлены в формате <em>CSV</em>.  Каждая строка представляет молекулу.</p> \n",
    "<ul>\n",
    "  <li> Первый столбец <em>CActivity</em> содержит экспериментальные данные, описывающие фактический биологический ответ [0, 1]; </li>\n",
    "  <li> Остальные столбцы D1-D1776 представляют собой молекулярные <strong>дескрипторы</strong> — это вычисляемые свойства, которые могут фиксировать некоторые характеристики молекулы, например размер, форму или состав элементов.</li>\n",
    "</ul>\n",
    "\n",
    "<p>Предварительная обработка не требуется, данные уже закодированы и нормализованы.</p>\n",
    "<p>В качестве метрики будем использовать F1-score.</p>\n",
    "\n",
    "<p>Необходимо обучить две модели: <strong>логистическую регрессию и случайный лес</strong>. Далее нужно сделать подбор гиперпараметров с помощью базовых и продвинутых методов оптимизации. Важно использовать <strong>все четыре метода</strong> (<em>GridSeachCV, RandomizedSearchCV, Hyperopt, Optuna</em>) хотя бы по разу, максимальное количество итераций не должно превышать 50.</p>"
   ]
  },
  {
   "attachments": {},
   "cell_type": "markdown",
   "metadata": {},
   "source": [
    "<h2>Выполнение задания:</h2>"
   ]
  },
  {
   "attachments": {},
   "cell_type": "markdown",
   "metadata": {},
   "source": [
    "<h3>Импорт библиотек:</h3>"
   ]
  },
  {
   "cell_type": "code",
   "execution_count": 1,
   "metadata": {},
   "outputs": [],
   "source": [
    "import pandas as pd\n",
    "import numpy as np\n",
    "from sklearn.model_selection import RandomizedSearchCV"
   ]
  },
  {
   "attachments": {},
   "cell_type": "markdown",
   "metadata": {},
   "source": [
    "<h3>Получение данных:</h3>"
   ]
  },
  {
   "cell_type": "code",
   "execution_count": null,
   "metadata": {},
   "outputs": [],
   "source": []
  }
 ],
 "metadata": {
  "kernelspec": {
   "display_name": "Python 3",
   "language": "python",
   "name": "python3"
  },
  "language_info": {
   "codemirror_mode": {
    "name": "ipython",
    "version": 3
   },
   "file_extension": ".py",
   "mimetype": "text/x-python",
   "name": "python",
   "nbconvert_exporter": "python",
   "pygments_lexer": "ipython3",
   "version": "3.9.11"
  },
  "orig_nbformat": 4,
  "vscode": {
   "interpreter": {
    "hash": "82ed002fa2d4956f5c6aec99bcefe0f73a9f79882f3c9e2319b14958a5896ac5"
   }
  }
 },
 "nbformat": 4,
 "nbformat_minor": 2
}
